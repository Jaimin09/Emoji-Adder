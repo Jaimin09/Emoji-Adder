{
 "cells": [
  {
   "cell_type": "code",
   "execution_count": 47,
   "metadata": {},
   "outputs": [],
   "source": [
    "import numpy as np\n",
    "from emo_utils import *\n",
    "from keras.layers import Dense, Dropout, Input, LSTM, Activation\n",
    "from keras.models import Model\n",
    "from keras.layers.embeddings import Embedding\n",
    "from keras.preprocessing import sequence\n",
    "from keras.initializers import glorot_uniform"
   ]
  },
  {
   "cell_type": "markdown",
   "metadata": {},
   "source": [
    "# Getting required dictionary"
   ]
  },
  {
   "cell_type": "code",
   "execution_count": 3,
   "metadata": {},
   "outputs": [],
   "source": [
    "word_to_index, index_to_word, word_to_emb_vec = read_glove_vecs('glove.6B.50d.txt')# dictionaries mapping corresponding elements"
   ]
  },
  {
   "cell_type": "markdown",
   "metadata": {},
   "source": [
    "# Loading Data"
   ]
  },
  {
   "cell_type": "code",
   "execution_count": 119,
   "metadata": {},
   "outputs": [],
   "source": [
    "X, Y = read_csv(\"train_sentences.csv\")"
   ]
  },
  {
   "cell_type": "markdown",
   "metadata": {},
   "source": [
    "# function to get max length of sentence in dataset"
   ]
  },
  {
   "cell_type": "code",
   "execution_count": 25,
   "metadata": {},
   "outputs": [],
   "source": [
    "def get_max_length(X):\n",
    "    max_words = 0\n",
    "    for sentence in X:\n",
    "        sent_indices = [word.lower() for word in sentence.split()]\n",
    "        if len(sent_indices)> max_words:\n",
    "            max_words = len(sent_indices)\n",
    "            \n",
    "    return max_words"
   ]
  },
  {
   "cell_type": "markdown",
   "metadata": {},
   "source": [
    "# Converting words to indices and padding to max length"
   ]
  },
  {
   "cell_type": "code",
   "execution_count": 68,
   "metadata": {},
   "outputs": [],
   "source": [
    "def sentence_to_indices(X, word_to_index, max_len):\n",
    "    \n",
    "    m = np.array(X).shape[0]\n",
    "    sent_indices = np.zeros((m, max_len))\n",
    "    for i in range(m):\n",
    "        sent_temp = [word.lower() for word in X[i].split()]\n",
    "        \n",
    "        for j in range(len(sent_temp)):\n",
    "            sent_indices[i, j] = word_to_index[sent_temp[j]]\n",
    "    return sent_indices"
   ]
  },
  {
   "cell_type": "markdown",
   "metadata": {},
   "source": [
    "# Creating layer for passing pretrained embedding layer"
   ]
  },
  {
   "cell_type": "code",
   "execution_count": 40,
   "metadata": {},
   "outputs": [],
   "source": [
    "def pretrained_embedding_layer(word_to_emb_vec, word_to_index):\n",
    "    vocab_len = len(word_to_index) + 1       # +1 is to fit as per the keras layer\n",
    "    emb_len = word_to_emb_vec['just'].shape[0]\n",
    "    \n",
    "    emb_matrix = np.zeros((vocab_len, emb_len))\n",
    "    \n",
    "    for word, index in word_to_index.items():\n",
    "        emb_matrix[index, :] = word_to_emb_vec[word]\n",
    "    \n",
    "    embedding_layer = Embedding(vocab_len, emb_len, trainable = False)\n",
    "    \n",
    "    embedding_layer.build((None,))\n",
    "    \n",
    "    embedding_layer.set_weights([emb_matrix])\n",
    "\n",
    "    return embedding_layer"
   ]
  },
  {
   "cell_type": "markdown",
   "metadata": {},
   "source": [
    "# Model"
   ]
  },
  {
   "cell_type": "code",
   "execution_count": 58,
   "metadata": {},
   "outputs": [],
   "source": [
    "def model(input_shape, word_to_emb_vec, word_to_index):\n",
    "    \n",
    "    sentence_indices = Input(shape = input_shape, dtype = 'int32')\n",
    "    \n",
    "    embedding_layer = pretrained_embedding_layer(word_to_emb_vec, word_to_index)\n",
    "    \n",
    "    embedding = embedding_layer(sentence_indices)\n",
    "    \n",
    "    X = LSTM(128, return_sequences = True)(embedding)\n",
    "    \n",
    "    X = Dropout(0.5)(X)\n",
    "    \n",
    "    X = LSTM(128, return_sequences = False)(X)\n",
    "    \n",
    "    X = Dropout(0.5)(X)\n",
    "    \n",
    "    X = Dense(3)(X)\n",
    "    \n",
    "    X = Activation('softmax')(X)\n",
    "    \n",
    "    emo_model = Model(inputs = sentence_indices, outputs = X)\n",
    "    \n",
    "    return emo_model    "
   ]
  },
  {
   "cell_type": "code",
   "execution_count": 63,
   "metadata": {},
   "outputs": [
    {
     "name": "stdout",
     "output_type": "stream",
     "text": [
      "_________________________________________________________________\n",
      "Layer (type)                 Output Shape              Param #   \n",
      "=================================================================\n",
      "input_6 (InputLayer)         (None, 10)                0         \n",
      "_________________________________________________________________\n",
      "embedding_7 (Embedding)      (None, 10, 50)            20000050  \n",
      "_________________________________________________________________\n",
      "lstm_9 (LSTM)                (None, 10, 128)           91648     \n",
      "_________________________________________________________________\n",
      "dropout_9 (Dropout)          (None, 10, 128)           0         \n",
      "_________________________________________________________________\n",
      "lstm_10 (LSTM)               (None, 128)               131584    \n",
      "_________________________________________________________________\n",
      "dropout_10 (Dropout)         (None, 128)               0         \n",
      "_________________________________________________________________\n",
      "dense_2 (Dense)              (None, 3)                 387       \n",
      "_________________________________________________________________\n",
      "activation_5 (Activation)    (None, 3)                 0         \n",
      "=================================================================\n",
      "Total params: 20,223,669\n",
      "Trainable params: 223,619\n",
      "Non-trainable params: 20,000,050\n",
      "_________________________________________________________________\n"
     ]
    }
   ],
   "source": [
    "max_len = get_max_length(X)\n",
    "emoji_model = model((max_len,), word_to_emb_vec, word_to_index)\n",
    "emoji_model.summary()"
   ]
  },
  {
   "cell_type": "markdown",
   "metadata": {},
   "source": [
    "# Compiling and fiting"
   ]
  },
  {
   "cell_type": "code",
   "execution_count": 120,
   "metadata": {},
   "outputs": [],
   "source": [
    "Y_oh = convert_to_one_hot(Y, C=3)\n",
    "max_len = get_max_length(X)\n",
    "X_indices = sentence_to_indices(X, word_to_index, max_len)"
   ]
  },
  {
   "cell_type": "code",
   "execution_count": 65,
   "metadata": {},
   "outputs": [],
   "source": [
    "emoji_model.compile(optimizer = 'adam', loss = 'categorical_crossentropy', metrics = ['accuracy'])"
   ]
  },
  {
   "cell_type": "code",
   "execution_count": 66,
   "metadata": {},
   "outputs": [
    {
     "name": "stdout",
     "output_type": "stream",
     "text": [
      "Epoch 1/20\n",
      "200/200 [==============================] - 3s 17ms/step - loss: 1.0999 - acc: 0.3450\n",
      "Epoch 2/20\n",
      "200/200 [==============================] - 1s 3ms/step - loss: 1.0581 - acc: 0.4750\n",
      "Epoch 3/20\n",
      "200/200 [==============================] - 1s 3ms/step - loss: 0.9978 - acc: 0.5200\n",
      "Epoch 4/20\n",
      "200/200 [==============================] - 1s 3ms/step - loss: 0.9003 - acc: 0.6600\n",
      "Epoch 5/20\n",
      "200/200 [==============================] - 1s 3ms/step - loss: 0.8315 - acc: 0.6450\n",
      "Epoch 6/20\n",
      "200/200 [==============================] - 1s 3ms/step - loss: 0.7309 - acc: 0.7050\n",
      "Epoch 7/20\n",
      "200/200 [==============================] - 1s 3ms/step - loss: 0.6175 - acc: 0.7500\n",
      "Epoch 8/20\n",
      "200/200 [==============================] - 1s 3ms/step - loss: 0.5336 - acc: 0.7900\n",
      "Epoch 9/20\n",
      "200/200 [==============================] - 1s 3ms/step - loss: 0.4982 - acc: 0.7950\n",
      "Epoch 10/20\n",
      "200/200 [==============================] - 1s 3ms/step - loss: 0.4530 - acc: 0.8300\n",
      "Epoch 11/20\n",
      "200/200 [==============================] - 1s 3ms/step - loss: 0.4167 - acc: 0.8600\n",
      "Epoch 12/20\n",
      "200/200 [==============================] - 1s 3ms/step - loss: 0.3879 - acc: 0.8500\n",
      "Epoch 13/20\n",
      "200/200 [==============================] - 1s 3ms/step - loss: 0.3393 - acc: 0.8900\n",
      "Epoch 14/20\n",
      "200/200 [==============================] - 1s 3ms/step - loss: 0.3369 - acc: 0.8750\n",
      "Epoch 15/20\n",
      "200/200 [==============================] - 1s 3ms/step - loss: 0.3417 - acc: 0.8650\n",
      "Epoch 16/20\n",
      "200/200 [==============================] - 1s 3ms/step - loss: 0.3331 - acc: 0.8550\n",
      "Epoch 17/20\n",
      "200/200 [==============================] - 1s 3ms/step - loss: 0.2201 - acc: 0.9350\n",
      "Epoch 18/20\n",
      "200/200 [==============================] - 1s 3ms/step - loss: 0.2340 - acc: 0.9400\n",
      "Epoch 19/20\n",
      "200/200 [==============================] - 1s 3ms/step - loss: 0.1856 - acc: 0.9300\n",
      "Epoch 20/20\n",
      "200/200 [==============================] - 1s 3ms/step - loss: 0.1609 - acc: 0.9400\n"
     ]
    },
    {
     "data": {
      "text/plain": [
       "<keras.callbacks.History at 0x1b781109748>"
      ]
     },
     "execution_count": 66,
     "metadata": {},
     "output_type": "execute_result"
    }
   ],
   "source": [
    "emoji_model.fit(X_indices, Y_oh, epochs = 20, batch_size = 32)"
   ]
  },
  {
   "cell_type": "markdown",
   "metadata": {},
   "source": [
    "# Lets play and predict some sentiments"
   ]
  },
  {
   "cell_type": "code",
   "execution_count": 118,
   "metadata": {},
   "outputs": [
    {
     "name": "stdout",
     "output_type": "stream",
     "text": [
      "i want to hug you ❤️\n",
      "i gifted a sweet ❤️\n",
      "i have super power 😃\n",
      "i am great 😟\n"
     ]
    }
   ],
   "source": [
    "my_sentiments = np.array(['i want to hug you', 'i gifted a sweet', 'i have super power', 'i am great'])\n",
    "my_senti = sentence_to_indices(my_sentiments, word_to_index, max_len)\n",
    "for i in range(my_sentiments.shape[0]):\n",
    "    pred = emoji_model.predict(my_senti[i].reshape(1,10))\n",
    "    print(my_sentiments[i], label_to_emoji(np.argmax(pred)))"
   ]
  },
  {
   "cell_type": "markdown",
   "metadata": {},
   "source": [
    "# Conclusion :\n",
    "Its working good, but needs some extra training set which are not bias. It is giving poor results in some cases"
   ]
  },
  {
   "cell_type": "code",
   "execution_count": null,
   "metadata": {},
   "outputs": [],
   "source": []
  }
 ],
 "metadata": {
  "kernelspec": {
   "display_name": "Python 3",
   "language": "python",
   "name": "python3"
  },
  "language_info": {
   "codemirror_mode": {
    "name": "ipython",
    "version": 3
   },
   "file_extension": ".py",
   "mimetype": "text/x-python",
   "name": "python",
   "nbconvert_exporter": "python",
   "pygments_lexer": "ipython3",
   "version": "3.6.0"
  }
 },
 "nbformat": 4,
 "nbformat_minor": 2
}
