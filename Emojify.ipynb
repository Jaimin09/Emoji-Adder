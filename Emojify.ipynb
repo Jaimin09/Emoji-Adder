{
 "cells": [
  {
   "cell_type": "code",
   "execution_count": 1,
   "metadata": {},
   "outputs": [],
   "source": [
    "import numpy as np\n",
    "import time\n",
    "from emo_utils import *"
   ]
  },
  {
   "cell_type": "markdown",
   "metadata": {},
   "source": [
    "# Getting required dictionaries"
   ]
  },
  {
   "cell_type": "code",
   "execution_count": 2,
   "metadata": {},
   "outputs": [],
   "source": [
    "word_to_index, index_to_word, word_to_emb_vec = read_glove_vecs('glove.6B.50d.txt')# dictionaries mapping corresponding elements"
   ]
  },
  {
   "cell_type": "markdown",
   "metadata": {},
   "source": [
    "# Loading, visualising and modifying Dataset"
   ]
  },
  {
   "cell_type": "code",
   "execution_count": 17,
   "metadata": {},
   "outputs": [
    {
     "name": "stdout",
     "output_type": "stream",
     "text": [
      "French macaroon is so tasty 😃\n",
      "\n",
      "work is horrible 😟\n",
      "\n",
      "I am upset 😟\n",
      "\n",
      "Good joke 😃\n",
      "\n"
     ]
    }
   ],
   "source": [
    "X, Y = read_csv('train_sentences.csv')\n",
    "for i in range(4):\n",
    "    print(X[i], label_to_emoji(Y[i]))\n",
    "    print()"
   ]
  },
  {
   "cell_type": "code",
   "execution_count": 29,
   "metadata": {},
   "outputs": [
    {
     "name": "stdout",
     "output_type": "stream",
     "text": [
      "0 is converted to  [1. 0. 0.]\n"
     ]
    }
   ],
   "source": [
    "Y_oh = convert_to_one_hot(Y, C = 3)\n",
    "index = 43\n",
    "print(Y[index], \"is converted to \", Y_oh[index])"
   ]
  },
  {
   "cell_type": "markdown",
   "metadata": {},
   "source": [
    "# Average the embedding values"
   ]
  },
  {
   "cell_type": "code",
   "execution_count": 6,
   "metadata": {},
   "outputs": [],
   "source": [
    "def sentence_avg(xi, word_to_emb_vec):\n",
    "    words = [i for i in xi.lower().split()]\n",
    "    \n",
    "    avg_vec = np.zeros((50,))\n",
    "    for w in words:\n",
    "        avg_vec += word_to_emb_vec[w]\n",
    "    avg_vec /= len(words)\n",
    "    \n",
    "    return avg_vec"
   ]
  },
  {
   "cell_type": "markdown",
   "metadata": {},
   "source": [
    "# Model"
   ]
  },
  {
   "cell_type": "code",
   "execution_count": 9,
   "metadata": {},
   "outputs": [],
   "source": [
    "def model(X, Y_oh, word_to_emb_vec, learning_rate = 0.001, num_iteration = 50, n_h = 50):\n",
    "    m = Y_oh.shape[0]\n",
    "    n_y = Y_oh.shape[1]\n",
    "    \n",
    "    W = np.random.randn(n_y, n_h) / np.sqrt(n_h)\n",
    "    b = np.zeros((n_y,))\n",
    "    \n",
    "    for iteration in range(num_iteration):\n",
    "        for i in range(m):\n",
    "            avg = sentence_avg(X[i], word_to_emb_vec)\n",
    "            z = np.dot(W, avg) + b\n",
    "            a = softmax(z)\n",
    "            \n",
    "            cost = -np.sum(np.multiply(Y_oh[i], np.log(a)))\n",
    "            \n",
    "            dz = a - Y_oh[i]\n",
    "            dW = np.dot(dz.reshape(n_y,1), avg.reshape(1, n_h))\n",
    "            db = dz\n",
    "\n",
    "            W = W - learning_rate * dW\n",
    "            b = b - learning_rate * db\n",
    "            \n",
    "        if iteration%(num_iteration/10) == 0:\n",
    "            print(\"Epoch: \" + str(iteration) + \" --- cost = \" + str(cost))\n",
    "            pred = predict(X, Y, W, b, word_to_emb_vec)\n",
    "            \n",
    "    return pred, W, b"
   ]
  },
  {
   "cell_type": "code",
   "execution_count": 10,
   "metadata": {},
   "outputs": [
    {
     "name": "stdout",
     "output_type": "stream",
     "text": [
      "Epoch: 0 --- cost = 1.4218597045967338\n",
      "Accuracy: 0.355\n",
      "Epoch: 50 --- cost = 0.737517715510417\n",
      "Accuracy: 0.69\n",
      "Epoch: 100 --- cost = 0.4810493788199171\n",
      "Accuracy: 0.73\n",
      "Epoch: 150 --- cost = 0.3427133141302946\n",
      "Accuracy: 0.765\n",
      "Epoch: 200 --- cost = 0.2597489065916679\n",
      "Accuracy: 0.79\n",
      "Epoch: 250 --- cost = 0.205825312833278\n",
      "Accuracy: 0.795\n",
      "Epoch: 300 --- cost = 0.16851126837134975\n",
      "Accuracy: 0.8\n",
      "Epoch: 350 --- cost = 0.14139353468330557\n",
      "Accuracy: 0.815\n",
      "Epoch: 400 --- cost = 0.1209106945172286\n",
      "Accuracy: 0.835\n",
      "Epoch: 450 --- cost = 0.10495769908597631\n",
      "Accuracy: 0.835\n"
     ]
    }
   ],
   "source": [
    "pred, w, b = model(X, Y_oh, word_to_emb_vec, learning_rate= 0.001, num_iteration = 500, n_h = 50)"
   ]
  },
  {
   "cell_type": "markdown",
   "metadata": {},
   "source": [
    "# Lets play and Predict some sentiments"
   ]
  },
  {
   "cell_type": "code",
   "execution_count": 15,
   "metadata": {},
   "outputs": [
    {
     "name": "stdout",
     "output_type": "stream",
     "text": [
      "Accuracy: 0.3333333333333333\n",
      "\n",
      "i know you i am genius 😃\n",
      "you are my favourite uncle ❤️\n",
      "i have did great jobs 😃\n",
      "i am super boss 😃\n",
      "i love you ❤️\n",
      "i hate you 😟\n"
     ]
    }
   ],
   "source": [
    "X_my_sentences = np.array([\"i know you i am genius\", \n",
    "                           \"you are my favourite uncle\",\n",
    "                           \"i have did great jobs\", \n",
    "                           \"i am super boss\", \n",
    "                           \"i love you\", \n",
    "                           \"i hate you\"])\n",
    "\n",
    "Y_my_labels = np.array([[0], [0], [2], [1], [4],[3]])\n",
    "\n",
    "pred = predict(X_my_sentences, Y_my_labels , w, b, word_to_emb_vec)\n",
    "print_predictions(X_my_sentences, pred)"
   ]
  },
  {
   "cell_type": "code",
   "execution_count": null,
   "metadata": {},
   "outputs": [],
   "source": []
  }
 ],
 "metadata": {
  "kernelspec": {
   "display_name": "Python 3",
   "language": "python",
   "name": "python3"
  },
  "language_info": {
   "codemirror_mode": {
    "name": "ipython",
    "version": 3
   },
   "file_extension": ".py",
   "mimetype": "text/x-python",
   "name": "python",
   "nbconvert_exporter": "python",
   "pygments_lexer": "ipython3",
   "version": "3.6.0"
  }
 },
 "nbformat": 4,
 "nbformat_minor": 2
}
